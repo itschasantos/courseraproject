{
 "cells": [
  {
   "cell_type": "markdown",
   "id": "25d152ff",
   "metadata": {},
   "source": [
    "Exercise 2: Title: Coursera Project"
   ]
  },
  {
   "cell_type": "markdown",
   "id": "18619a1e",
   "metadata": {},
   "source": [
    "Exercise 3: Hello this is a markdown cell"
   ]
  },
  {
   "cell_type": "markdown",
   "id": "b3219947",
   "metadata": {},
   "source": [
    "Exercise 4: ## Data Science Languages\n",
    "- Python\n",
    "- R\n",
    "- SQL\n",
    "- Julia\n",
    "- Java\n"
   ]
  },
  {
   "cell_type": "markdown",
   "id": "21d6c00c",
   "metadata": {},
   "source": [
    "Exercise 5: ## Data Science Libraries\n",
    "- Pandas (Python)\n",
    "- NumPy (Python)\n",
    "- ggplot2 (R)\n",
    "- TensorFlow (Python)\n",
    "- Scikit-learn (Python)\n"
   ]
  },
  {
   "cell_type": "markdown",
   "id": "4341fb52",
   "metadata": {},
   "source": [
    "Exercise 6: \n",
    "    \n",
    "## Data Science Tools\n",
    "\n",
    "| Tool Name      | Type         | Use Case                   |\n",
    "|----------------|--------------|----------------------------|\n",
    "| Jupyter        | IDE          | Interactive Coding         |\n",
    "| RStudio        | IDE          | R Programming              |\n",
    "| Tableau        | Visualization| Data Visualization         |\n",
    "| Apache Spark   | Big Data     | Large-scale Data Processing|\n",
    "| Git            | VCS          | Version Control            |\n"
   ]
  },
  {
   "cell_type": "markdown",
   "id": "1ae2381e",
   "metadata": {},
   "source": [
    "Exercise 7: \n",
    "## Arithmetic Expression Examples\n",
    "In the following code cells, we will demonstrate basic arithmetic operations like multiplication and addition.\n"
   ]
  },
  {
   "cell_type": "code",
   "execution_count": 4,
   "id": "efb5c415",
   "metadata": {},
   "outputs": [
    {
     "name": "stdout",
     "output_type": "stream",
     "text": [
      "2\n",
      "4\n"
     ]
    }
   ],
   "source": [
    "print(1 + 1)\n",
    "\n",
    "print(2 * 2)"
   ]
  },
  {
   "cell_type": "code",
   "execution_count": 7,
   "id": "be9109b3",
   "metadata": {},
   "outputs": [
    {
     "data": {
      "text/plain": [
       "0.016666666666666666"
      ]
     },
     "execution_count": 7,
     "metadata": {},
     "output_type": "execute_result"
    }
   ],
   "source": [
    "minutes = 1\n",
    "hours = minutes / 60\n",
    "\n",
    "hours"
   ]
  },
  {
   "cell_type": "markdown",
   "id": "5eb7d96d",
   "metadata": {},
   "source": [
    "Author: Charlynne Santos"
   ]
  },
  {
   "cell_type": "code",
   "execution_count": null,
   "id": "eada98ad",
   "metadata": {},
   "outputs": [],
   "source": []
  }
 ],
 "metadata": {
  "kernelspec": {
   "display_name": "Python 3 (ipykernel)",
   "language": "python",
   "name": "python3"
  },
  "language_info": {
   "codemirror_mode": {
    "name": "ipython",
    "version": 3
   },
   "file_extension": ".py",
   "mimetype": "text/x-python",
   "name": "python",
   "nbconvert_exporter": "python",
   "pygments_lexer": "ipython3",
   "version": "3.11.5"
  },
  "toc": {
   "base_numbering": 1,
   "nav_menu": {},
   "number_sections": true,
   "sideBar": true,
   "skip_h1_title": false,
   "title_cell": "Table of Contents",
   "title_sidebar": "Contents",
   "toc_cell": false,
   "toc_position": {},
   "toc_section_display": true,
   "toc_window_display": false
  },
  "varInspector": {
   "cols": {
    "lenName": 16,
    "lenType": 16,
    "lenVar": 40
   },
   "kernels_config": {
    "python": {
     "delete_cmd_postfix": "",
     "delete_cmd_prefix": "del ",
     "library": "var_list.py",
     "varRefreshCmd": "print(var_dic_list())"
    },
    "r": {
     "delete_cmd_postfix": ") ",
     "delete_cmd_prefix": "rm(",
     "library": "var_list.r",
     "varRefreshCmd": "cat(var_dic_list()) "
    }
   },
   "types_to_exclude": [
    "module",
    "function",
    "builtin_function_or_method",
    "instance",
    "_Feature"
   ],
   "window_display": false
  }
 },
 "nbformat": 4,
 "nbformat_minor": 5
}
